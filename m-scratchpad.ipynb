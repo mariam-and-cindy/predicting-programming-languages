{
 "cells": [
  {
   "cell_type": "code",
   "execution_count": 1,
   "metadata": {},
   "outputs": [],
   "source": [
    "import pandas as pd\n",
    "import os"
   ]
  },
  {
   "cell_type": "code",
   "execution_count": 2,
   "metadata": {},
   "outputs": [],
   "source": [
    "repo_json_file = 'data2.json'\n",
    "df_github = pd.read_json(repo_json_file)"
   ]
  },
  {
   "cell_type": "code",
   "execution_count": 3,
   "metadata": {},
   "outputs": [
    {
     "data": {
      "text/html": [
       "<div>\n",
       "<style scoped>\n",
       "    .dataframe tbody tr th:only-of-type {\n",
       "        vertical-align: middle;\n",
       "    }\n",
       "\n",
       "    .dataframe tbody tr th {\n",
       "        vertical-align: top;\n",
       "    }\n",
       "\n",
       "    .dataframe thead th {\n",
       "        text-align: right;\n",
       "    }\n",
       "</style>\n",
       "<table border=\"1\" class=\"dataframe\">\n",
       "  <thead>\n",
       "    <tr style=\"text-align: right;\">\n",
       "      <th></th>\n",
       "      <th>repo</th>\n",
       "      <th>language</th>\n",
       "      <th>readme_contents</th>\n",
       "    </tr>\n",
       "  </thead>\n",
       "  <tbody>\n",
       "    <tr>\n",
       "      <th>0</th>\n",
       "      <td>mojombo/grit</td>\n",
       "      <td>Ruby</td>\n",
       "      <td>Grit\\n====\\n\\n**Grit is no longer maintained. ...</td>\n",
       "    </tr>\n",
       "    <tr>\n",
       "      <th>1</th>\n",
       "      <td>wycats/merb-core</td>\n",
       "      <td>Ruby</td>\n",
       "      <td>merb-core and merb-more have been merged into ...</td>\n",
       "    </tr>\n",
       "    <tr>\n",
       "      <th>2</th>\n",
       "      <td>rubinius/rubinius</td>\n",
       "      <td>C</td>\n",
       "      <td>[![Gitter](https://badges.gitter.im/Join%20Cha...</td>\n",
       "    </tr>\n",
       "    <tr>\n",
       "      <th>3</th>\n",
       "      <td>mojombo/god</td>\n",
       "      <td>Ruby</td>\n",
       "      <td>God: The Ruby Framework for Process Management...</td>\n",
       "    </tr>\n",
       "    <tr>\n",
       "      <th>4</th>\n",
       "      <td>vanpelt/jsawesome</td>\n",
       "      <td>JavaScript</td>\n",
       "      <td>Jsawesome\\n\\nDescription:\\n    JSAwesome provi...</td>\n",
       "    </tr>\n",
       "  </tbody>\n",
       "</table>\n",
       "</div>"
      ],
      "text/plain": [
       "                repo    language  \\\n",
       "0       mojombo/grit        Ruby   \n",
       "1   wycats/merb-core        Ruby   \n",
       "2  rubinius/rubinius           C   \n",
       "3        mojombo/god        Ruby   \n",
       "4  vanpelt/jsawesome  JavaScript   \n",
       "\n",
       "                                     readme_contents  \n",
       "0  Grit\\n====\\n\\n**Grit is no longer maintained. ...  \n",
       "1  merb-core and merb-more have been merged into ...  \n",
       "2  [![Gitter](https://badges.gitter.im/Join%20Cha...  \n",
       "3  God: The Ruby Framework for Process Management...  \n",
       "4  Jsawesome\\n\\nDescription:\\n    JSAwesome provi...  "
      ]
     },
     "execution_count": 3,
     "metadata": {},
     "output_type": "execute_result"
    }
   ],
   "source": [
    "df_github.head()"
   ]
  },
  {
   "cell_type": "code",
   "execution_count": 4,
   "metadata": {},
   "outputs": [
    {
     "data": {
      "text/plain": [
       "(99, 3)"
      ]
     },
     "execution_count": 4,
     "metadata": {},
     "output_type": "execute_result"
    }
   ],
   "source": [
    "df_github.shape"
   ]
  },
  {
   "cell_type": "code",
   "execution_count": 3,
   "metadata": {},
   "outputs": [],
   "source": [
    "def get_data(cached=False):\n",
    "    # If the cached parameter is false, or the csv file is not on disk, read from the database into a dataframe\n",
    "    if cached == False or os.path.isfile('git_df.csv') == False:\n",
    "        repo_json_file = 'data2.json'\n",
    "        git_df = pd.read_json(repo_json_file)\n",
    "        #also cache the data we read from the db, to a file on disk\n",
    "        git_df.to_csv('git_df.csv')\n",
    "    else:\n",
    "        # either the cached parameter was true, or a file exists on disk. Read that into a df instead of going to the database\n",
    "        git_df = pd.read_csv('git_df.csv', index_col=0)\n",
    "    # return our dataframe regardless of its origin\n",
    "    return git_df"
   ]
  },
  {
   "cell_type": "code",
   "execution_count": 4,
   "metadata": {},
   "outputs": [],
   "source": [
    "df = get_data()"
   ]
  },
  {
   "cell_type": "code",
   "execution_count": 5,
   "metadata": {},
   "outputs": [
    {
     "data": {
      "text/html": [
       "<div>\n",
       "<style scoped>\n",
       "    .dataframe tbody tr th:only-of-type {\n",
       "        vertical-align: middle;\n",
       "    }\n",
       "\n",
       "    .dataframe tbody tr th {\n",
       "        vertical-align: top;\n",
       "    }\n",
       "\n",
       "    .dataframe thead th {\n",
       "        text-align: right;\n",
       "    }\n",
       "</style>\n",
       "<table border=\"1\" class=\"dataframe\">\n",
       "  <thead>\n",
       "    <tr style=\"text-align: right;\">\n",
       "      <th></th>\n",
       "      <th>repo</th>\n",
       "      <th>language</th>\n",
       "      <th>readme_contents</th>\n",
       "    </tr>\n",
       "  </thead>\n",
       "  <tbody>\n",
       "    <tr>\n",
       "      <th>0</th>\n",
       "      <td>mojombo/grit</td>\n",
       "      <td>Ruby</td>\n",
       "      <td>Grit\\n====\\n\\n**Grit is no longer maintained. ...</td>\n",
       "    </tr>\n",
       "    <tr>\n",
       "      <th>1</th>\n",
       "      <td>wycats/merb-core</td>\n",
       "      <td>Ruby</td>\n",
       "      <td>merb-core and merb-more have been merged into ...</td>\n",
       "    </tr>\n",
       "    <tr>\n",
       "      <th>2</th>\n",
       "      <td>rubinius/rubinius</td>\n",
       "      <td>C</td>\n",
       "      <td>[![Gitter](https://badges.gitter.im/Join%20Cha...</td>\n",
       "    </tr>\n",
       "    <tr>\n",
       "      <th>3</th>\n",
       "      <td>mojombo/god</td>\n",
       "      <td>Ruby</td>\n",
       "      <td>God: The Ruby Framework for Process Management...</td>\n",
       "    </tr>\n",
       "    <tr>\n",
       "      <th>4</th>\n",
       "      <td>vanpelt/jsawesome</td>\n",
       "      <td>JavaScript</td>\n",
       "      <td>Jsawesome\\n\\nDescription:\\n    JSAwesome provi...</td>\n",
       "    </tr>\n",
       "  </tbody>\n",
       "</table>\n",
       "</div>"
      ],
      "text/plain": [
       "                repo    language  \\\n",
       "0       mojombo/grit        Ruby   \n",
       "1   wycats/merb-core        Ruby   \n",
       "2  rubinius/rubinius           C   \n",
       "3        mojombo/god        Ruby   \n",
       "4  vanpelt/jsawesome  JavaScript   \n",
       "\n",
       "                                     readme_contents  \n",
       "0  Grit\\n====\\n\\n**Grit is no longer maintained. ...  \n",
       "1  merb-core and merb-more have been merged into ...  \n",
       "2  [![Gitter](https://badges.gitter.im/Join%20Cha...  \n",
       "3  God: The Ruby Framework for Process Management...  \n",
       "4  Jsawesome\\n\\nDescription:\\n    JSAwesome provi...  "
      ]
     },
     "execution_count": 5,
     "metadata": {},
     "output_type": "execute_result"
    }
   ],
   "source": [
    "df.head()"
   ]
  },
  {
   "cell_type": "code",
   "execution_count": 12,
   "metadata": {},
   "outputs": [],
   "source": [
    "# required imports\n",
    "\n",
    "from requests import get\n",
    "\n",
    "import json\n",
    "\n",
    "import os\n",
    "\n",
    "import csv\n",
    "\n",
    " \n",
    "\n",
    "def get_github_repos(cached=False):\n",
    "\n",
    "    repo_list = []\n",
    "\n",
    "    # If the cached parameter is true, or the csv file is present, use that\n",
    "\n",
    "    if (os.path.isfile('git_urls.csv') == True or cached == True):\n",
    "\n",
    "        # read from the cache file on disk\n",
    "\n",
    "        with open('git_urls.csv') as f:\n",
    "\n",
    "            reader = csv.reader(f)\n",
    "\n",
    "            data = list(reader)\n",
    "\n",
    "        repo_list = data[0]\n",
    "\n",
    "    else:\n",
    "\n",
    "        # read from github\n",
    "\n",
    "        url = 'https://api.github.com/repositories?ID=50000'\n",
    "\n",
    "        headers = {'User-Agent': 'Codeup Data Science'} # Some websites don't accept the pyhon-requests default user-agent\n",
    "\n",
    "        response = get(url, headers=headers)\n",
    "\n",
    "        data = json.loads(response.text)\n",
    "\n",
    "        for repo in data:\n",
    "\n",
    "            repo_list.append(repo['full_name'])\n",
    "\n",
    "       \n",
    "\n",
    "        # save to the cache file\n",
    "\n",
    "        with open('git_urls.csv', 'w') as f:\n",
    "\n",
    "            write = csv.writer(f)\n",
    "\n",
    "            write.writerow(repo_list)\n",
    "\n",
    " \n",
    "\n",
    "    # either way, return the list of repos\n",
    "\n",
    "    return repo_list\n",
    "\n",
    " \n",
    "\n",
    "if __name__ == \"__main__\":\n",
    "\n",
    "    data = get_github_repos()\n",
    "\n"
   ]
  },
  {
   "cell_type": "code",
   "execution_count": 15,
   "metadata": {},
   "outputs": [],
   "source": [
    "repos = get_github_repos()"
   ]
  },
  {
   "cell_type": "code",
   "execution_count": 16,
   "metadata": {},
   "outputs": [
    {
     "data": {
      "text/plain": [
       "['mojombo/grit',\n",
       " 'wycats/merb-core',\n",
       " 'rubinius/rubinius',\n",
       " 'mojombo/god',\n",
       " 'vanpelt/jsawesome',\n",
       " 'wycats/jspec',\n",
       " 'defunkt/exception_logger',\n",
       " 'defunkt/ambition',\n",
       " 'technoweenie/restful-authentication',\n",
       " 'technoweenie/attachment_fu',\n",
       " 'caged/microsis',\n",
       " 'anotherjesse/s3',\n",
       " 'anotherjesse/taboo',\n",
       " 'anotherjesse/foxtracs',\n",
       " 'anotherjesse/fotomatic',\n",
       " 'mojombo/glowstick',\n",
       " 'defunkt/starling',\n",
       " 'wycats/merb-more',\n",
       " 'macournoyer/thin',\n",
       " 'jamesgolick/resource_controller',\n",
       " 'jamesgolick/markaby',\n",
       " 'jamesgolick/enum_field',\n",
       " 'defunkt/subtlety',\n",
       " 'defunkt/zippy',\n",
       " 'defunkt/cache_fu',\n",
       " 'KirinDave/phosphor',\n",
       " 'bmizerany/sinatra',\n",
       " 'jnewland/gsa-prototype',\n",
       " 'technoweenie/duplikate',\n",
       " 'jnewland/lazy_record',\n",
       " 'jnewland/gsa-feeds',\n",
       " 'jnewland/votigoto',\n",
       " 'defunkt/mofo',\n",
       " 'jnewland/xhtmlize',\n",
       " 'ruby-git/ruby-git',\n",
       " 'ezmobius/bmhsearch',\n",
       " 'uggedal/mofo',\n",
       " 'mmower/simply_versioned',\n",
       " 'abhay/gchart',\n",
       " 'benburkert/schemr',\n",
       " 'abhay/calais',\n",
       " 'mojombo/chronic',\n",
       " 'sr/git-wiki',\n",
       " 'queso/signal-wiki',\n",
       " 'drnic/ruby-on-rails-tmbundle',\n",
       " 'danwrong/low-pro-for-jquery',\n",
       " 'wayneeseguin/merb-core',\n",
       " 'sr/dst',\n",
       " 'mojombo/yaws',\n",
       " 'KirinDave/yaws',\n",
       " 'sr/tasks',\n",
       " 'mattetti/ruby-on-rails-tmbundle',\n",
       " 'grempe/amazon-ec2',\n",
       " 'wayneeseguin/merblogger',\n",
       " 'wayneeseguin/merbtastic',\n",
       " 'wayneeseguin/alogr',\n",
       " 'wayneeseguin/autozest',\n",
       " 'wayneeseguin/rnginx',\n",
       " 'wayneeseguin/sequel',\n",
       " 'bmizerany/simply_versioned',\n",
       " 'peterc/switchpipe',\n",
       " 'hornbeck/arc',\n",
       " 'up_the_irons/ebay4r',\n",
       " 'wycats/merb-plugins',\n",
       " 'up_the_irons/ram',\n",
       " 'defunkt/ambitious_activeldap',\n",
       " 'atmos/fitter_happier',\n",
       " 'brosner/oebfare',\n",
       " 'up_the_irons/credit_card_tools',\n",
       " 'jnicklas/rorem',\n",
       " 'cristibalan/braid',\n",
       " 'jnicklas/uploadcolumn',\n",
       " 'simonjefford/ruby-on-rails-tmbundle',\n",
       " 'leahneukirchen/rack-mirror',\n",
       " 'leahneukirchen/coset-mirror',\n",
       " 'drnic/javascript-unittest-tmbundle',\n",
       " 'engineyard/eycap',\n",
       " 'leahneukirchen/gitsum',\n",
       " 'wayneeseguin/sequel-model',\n",
       " 'kevinclark/god',\n",
       " 'hornbeck/blerb-core',\n",
       " 'brosner/django-mptt',\n",
       " 'technomancy/bus-scheme',\n",
       " 'caged/javascript-bits',\n",
       " 'caged/groomlake',\n",
       " 'sevenwire/forgery',\n",
       " 'technicalpickles/ambitious-sphinx',\n",
       " 'lazyatom/soup',\n",
       " 'josh/rails',\n",
       " 'cdcarter/backpacking',\n",
       " 'jnewland/capsize',\n",
       " 'bs/starling',\n",
       " 'sr/ape',\n",
       " 'collectiveidea/awesomeness',\n",
       " 'collectiveidea/audited',\n",
       " 'collectiveidea/acts_as_geocodable',\n",
       " 'collectiveidea/acts_as_money',\n",
       " 'collectiveidea/calendar_builder',\n",
       " 'collectiveidea/clear_empty_attributes',\n",
       " 'collectiveidea/css_naked_day']"
      ]
     },
     "execution_count": 16,
     "metadata": {},
     "output_type": "execute_result"
    }
   ],
   "source": [
    "repos"
   ]
  },
  {
   "cell_type": "code",
   "execution_count": 17,
   "metadata": {},
   "outputs": [
    {
     "data": {
      "text/plain": [
       "100"
      ]
     },
     "execution_count": 17,
     "metadata": {},
     "output_type": "execute_result"
    }
   ],
   "source": [
    "len(repos)"
   ]
  },
  {
   "cell_type": "code",
   "execution_count": null,
   "metadata": {},
   "outputs": [],
   "source": []
  }
 ],
 "metadata": {
  "kernelspec": {
   "display_name": "Python 3",
   "language": "python",
   "name": "python3"
  },
  "language_info": {
   "codemirror_mode": {
    "name": "ipython",
    "version": 3
   },
   "file_extension": ".py",
   "mimetype": "text/x-python",
   "name": "python",
   "nbconvert_exporter": "python",
   "pygments_lexer": "ipython3",
   "version": "3.8.5"
  }
 },
 "nbformat": 4,
 "nbformat_minor": 4
}
