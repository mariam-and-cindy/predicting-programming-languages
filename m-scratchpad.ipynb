{
 "cells": [
  {
   "cell_type": "code",
   "execution_count": 6,
   "metadata": {},
   "outputs": [],
   "source": [
    "import pandas as pd\n",
    "import os"
   ]
  },
  {
   "cell_type": "code",
   "execution_count": 2,
   "metadata": {},
   "outputs": [],
   "source": [
    "repo_json_file = 'data2.json'\n",
    "df_github = pd.read_json(repo_json_file)"
   ]
  },
  {
   "cell_type": "code",
   "execution_count": 3,
   "metadata": {},
   "outputs": [
    {
     "data": {
      "text/html": [
       "<div>\n",
       "<style scoped>\n",
       "    .dataframe tbody tr th:only-of-type {\n",
       "        vertical-align: middle;\n",
       "    }\n",
       "\n",
       "    .dataframe tbody tr th {\n",
       "        vertical-align: top;\n",
       "    }\n",
       "\n",
       "    .dataframe thead th {\n",
       "        text-align: right;\n",
       "    }\n",
       "</style>\n",
       "<table border=\"1\" class=\"dataframe\">\n",
       "  <thead>\n",
       "    <tr style=\"text-align: right;\">\n",
       "      <th></th>\n",
       "      <th>repo</th>\n",
       "      <th>language</th>\n",
       "      <th>readme_contents</th>\n",
       "    </tr>\n",
       "  </thead>\n",
       "  <tbody>\n",
       "    <tr>\n",
       "      <th>0</th>\n",
       "      <td>SJang1/korea-covid-19-remaining-vaccine-macro</td>\n",
       "      <td>Python</td>\n",
       "      <td># korea-covid-19-remaining-vaccine-macro\\n잔여백신...</td>\n",
       "    </tr>\n",
       "    <tr>\n",
       "      <th>1</th>\n",
       "      <td>bradtraversy/50projects50days</td>\n",
       "      <td>CSS</td>\n",
       "      <td># 50 Projects in 50 Days - HTML/CSS and JavaSc...</td>\n",
       "    </tr>\n",
       "    <tr>\n",
       "      <th>2</th>\n",
       "      <td>freeCodeCamp/freeCodeCamp</td>\n",
       "      <td>JavaScript</td>\n",
       "      <td>![freeCodeCamp.org Social Banner](https://s3.a...</td>\n",
       "    </tr>\n",
       "  </tbody>\n",
       "</table>\n",
       "</div>"
      ],
      "text/plain": [
       "                                            repo    language  \\\n",
       "0  SJang1/korea-covid-19-remaining-vaccine-macro      Python   \n",
       "1                  bradtraversy/50projects50days         CSS   \n",
       "2                      freeCodeCamp/freeCodeCamp  JavaScript   \n",
       "\n",
       "                                     readme_contents  \n",
       "0  # korea-covid-19-remaining-vaccine-macro\\n잔여백신...  \n",
       "1  # 50 Projects in 50 Days - HTML/CSS and JavaSc...  \n",
       "2  ![freeCodeCamp.org Social Banner](https://s3.a...  "
      ]
     },
     "execution_count": 3,
     "metadata": {},
     "output_type": "execute_result"
    }
   ],
   "source": [
    "df_github.head()"
   ]
  },
  {
   "cell_type": "code",
   "execution_count": 7,
   "metadata": {},
   "outputs": [],
   "source": [
    "def get_data(cached=False):\n",
    "    # If the cached parameter is false, or the csv file is not on disk, read from the database into a dataframe\n",
    "    if cached == False or os.path.isfile('git_df.csv') == False:\n",
    "        repo_json_file = 'data2.json'\n",
    "        git_df = pd.read_json(repo_json_file)\n",
    "#         zillow_df = pd.read_sql(sql_query, get_db_url('zillow'))\n",
    "        #also cache the data we read from the db, to a file on disk\n",
    "        git_df.to_csv('git_df.csv')\n",
    "    else:\n",
    "        # either the cached parameter was true, or a file exists on disk. Read that into a df instead of going to the database\n",
    "        git_df = pd.read_csv('git_df.csv', index_col=0)\n",
    "    # return our dataframe regardless of its origin\n",
    "    return git_df"
   ]
  },
  {
   "cell_type": "code",
   "execution_count": 9,
   "metadata": {},
   "outputs": [
    {
     "data": {
      "text/html": [
       "<div>\n",
       "<style scoped>\n",
       "    .dataframe tbody tr th:only-of-type {\n",
       "        vertical-align: middle;\n",
       "    }\n",
       "\n",
       "    .dataframe tbody tr th {\n",
       "        vertical-align: top;\n",
       "    }\n",
       "\n",
       "    .dataframe thead th {\n",
       "        text-align: right;\n",
       "    }\n",
       "</style>\n",
       "<table border=\"1\" class=\"dataframe\">\n",
       "  <thead>\n",
       "    <tr style=\"text-align: right;\">\n",
       "      <th></th>\n",
       "      <th>repo</th>\n",
       "      <th>language</th>\n",
       "      <th>readme_contents</th>\n",
       "    </tr>\n",
       "  </thead>\n",
       "  <tbody>\n",
       "    <tr>\n",
       "      <th>0</th>\n",
       "      <td>SJang1/korea-covid-19-remaining-vaccine-macro</td>\n",
       "      <td>Python</td>\n",
       "      <td># korea-covid-19-remaining-vaccine-macro\\n잔여백신...</td>\n",
       "    </tr>\n",
       "    <tr>\n",
       "      <th>1</th>\n",
       "      <td>bradtraversy/50projects50days</td>\n",
       "      <td>CSS</td>\n",
       "      <td># 50 Projects in 50 Days - HTML/CSS and JavaSc...</td>\n",
       "    </tr>\n",
       "    <tr>\n",
       "      <th>2</th>\n",
       "      <td>freeCodeCamp/freeCodeCamp</td>\n",
       "      <td>JavaScript</td>\n",
       "      <td>![freeCodeCamp.org Social Banner](https://s3.a...</td>\n",
       "    </tr>\n",
       "  </tbody>\n",
       "</table>\n",
       "</div>"
      ],
      "text/plain": [
       "                                            repo    language  \\\n",
       "0  SJang1/korea-covid-19-remaining-vaccine-macro      Python   \n",
       "1                  bradtraversy/50projects50days         CSS   \n",
       "2                      freeCodeCamp/freeCodeCamp  JavaScript   \n",
       "\n",
       "                                     readme_contents  \n",
       "0  # korea-covid-19-remaining-vaccine-macro\\n잔여백신...  \n",
       "1  # 50 Projects in 50 Days - HTML/CSS and JavaSc...  \n",
       "2  ![freeCodeCamp.org Social Banner](https://s3.a...  "
      ]
     },
     "execution_count": 9,
     "metadata": {},
     "output_type": "execute_result"
    }
   ],
   "source": [
    "get_data()"
   ]
  },
  {
   "cell_type": "code",
   "execution_count": null,
   "metadata": {},
   "outputs": [],
   "source": []
  }
 ],
 "metadata": {
  "kernelspec": {
   "display_name": "Python 3",
   "language": "python",
   "name": "python3"
  },
  "language_info": {
   "codemirror_mode": {
    "name": "ipython",
    "version": 3
   },
   "file_extension": ".py",
   "mimetype": "text/x-python",
   "name": "python",
   "nbconvert_exporter": "python",
   "pygments_lexer": "ipython3",
   "version": "3.8.5"
  }
 },
 "nbformat": 4,
 "nbformat_minor": 4
}
