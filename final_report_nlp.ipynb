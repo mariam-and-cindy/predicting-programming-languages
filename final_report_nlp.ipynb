{
 "cells": [
  {
   "cell_type": "markdown",
   "metadata": {},
   "source": [
    "# Predicting Programming Languages using NLP"
   ]
  },
  {
   "cell_type": "markdown",
   "metadata": {},
   "source": [
    "### Executive Summary\n",
    "\n",
    "- Our goal is to create a classification model to predict programming languages using Readme content from GitHub repositories.\n",
    "    - This can assist users in finding relevant content based on their programming language critera.\n",
    "    \n",
    "\n",
    "### Key Takeaways\n",
    "\n",
    "- Most common programming language found in our dataset is Javascript followed by Python\n",
    "- Some of the most common words in Readmes were found to be: 'file', 'end', 'class','use' and 'object'.\n",
    "- The length of the readme's varies by programming languages.\n",
    "- \n",
    "- Our best model used  to predict programming languages with % accuracy. This model outperformed my baseline score of % accuracy, so it has value.\n",
    "\n",
    "### Project Overview\n",
    "\n",
    "- Trello board used to identify the different tasks for this project. You can find the board <a href=\"https://trello.com/b/PddXdOTJ/nlp-project\">here</a>\n",
    "- Python scripts were used to acquire, prepare and explore the data\n",
    "- \n",
    "- Statistical analyses tested the following hypotheses:\n",
    "    1. \n",
    " \n",
    "### Data Dictionary\n",
    "\n",
    "The data dictionary detailing all variables utilized in this analyses can be found <a href=\"https://github.com/mariam-and-cindy/predicting-programming-languages/blob/main/README.md\">here</a>."
   ]
  },
  {
   "cell_type": "code",
   "execution_count": 1,
   "metadata": {},
   "outputs": [],
   "source": [
    "# required imports\n",
    "\n",
    "from requests import get\n",
    "from bs4 import BeautifulSoup\n",
    "import pandas as pd\n",
    "import seaborn as sns\n",
    "import matplotlib as mpl\n",
    "import matplotlib.pyplot as plt\n",
    "from wordcloud import WordCloud\n",
    "from textblob import TextBlob\n",
    "\n",
    "import prepare as pr\n",
    "import unicodedata\n",
    "import re\n",
    "import json"
   ]
  },
  {
   "cell_type": "markdown",
   "metadata": {},
   "source": [
    "# Acquire Data\n",
    "\n",
    "Our data was scraped from 400 GitHub repositories. We decided to use the list of most forked repos on GitHub <a href=\"https://github.com/search?o=desc&p={i}&q=stars%3A%3E1&s=forks&type=Repositories\">here</a> for our dataset. \n",
    "\n",
    "This list of repositories was cached as a csv after acquisition and using our acquire script we pulled the username and title, language and readme contents of every repository into a json file. We converted the json file to a csv and will read that into a pandas dataframe.\n"
   ]
  },
  {
   "cell_type": "code",
   "execution_count": 4,
   "metadata": {},
   "outputs": [],
   "source": [
    "# acquire the data\n",
    "df = pd.read_csv('git_data.csv', index_col=0)"
   ]
  },
  {
   "cell_type": "code",
   "execution_count": 5,
   "metadata": {},
   "outputs": [
    {
     "data": {
      "text/html": [
       "<div>\n",
       "<style scoped>\n",
       "    .dataframe tbody tr th:only-of-type {\n",
       "        vertical-align: middle;\n",
       "    }\n",
       "\n",
       "    .dataframe tbody tr th {\n",
       "        vertical-align: top;\n",
       "    }\n",
       "\n",
       "    .dataframe thead th {\n",
       "        text-align: right;\n",
       "    }\n",
       "</style>\n",
       "<table border=\"1\" class=\"dataframe\">\n",
       "  <thead>\n",
       "    <tr style=\"text-align: right;\">\n",
       "      <th></th>\n",
       "      <th>repo</th>\n",
       "      <th>language</th>\n",
       "      <th>readme_contents</th>\n",
       "    </tr>\n",
       "  </thead>\n",
       "  <tbody>\n",
       "    <tr>\n",
       "      <th>0</th>\n",
       "      <td>jtleek/datasharing</td>\n",
       "      <td>NaN</td>\n",
       "      <td>How to share data with a statistician\\n=======...</td>\n",
       "    </tr>\n",
       "    <tr>\n",
       "      <th>1</th>\n",
       "      <td>rdpeng/ProgrammingAssignment2</td>\n",
       "      <td>R</td>\n",
       "      <td>### Introduction\\n\\nThis second programming as...</td>\n",
       "    </tr>\n",
       "    <tr>\n",
       "      <th>2</th>\n",
       "      <td>octocat/Spoon-Knife</td>\n",
       "      <td>HTML</td>\n",
       "      <td>### Well hello there!\\n\\nThis repository is me...</td>\n",
       "    </tr>\n",
       "    <tr>\n",
       "      <th>3</th>\n",
       "      <td>tensorflow/tensorflow</td>\n",
       "      <td>C++</td>\n",
       "      <td>&lt;div align=\"center\"&gt;\\n  &lt;img src=\"https://www....</td>\n",
       "    </tr>\n",
       "    <tr>\n",
       "      <th>4</th>\n",
       "      <td>SmartThingsCommunity/SmartThingsPublic</td>\n",
       "      <td>Groovy</td>\n",
       "      <td># SmartThings Public GitHub Repo\\n\\nAn officia...</td>\n",
       "    </tr>\n",
       "  </tbody>\n",
       "</table>\n",
       "</div>"
      ],
      "text/plain": [
       "                                     repo language  \\\n",
       "0                      jtleek/datasharing      NaN   \n",
       "1           rdpeng/ProgrammingAssignment2        R   \n",
       "2                     octocat/Spoon-Knife     HTML   \n",
       "3                   tensorflow/tensorflow      C++   \n",
       "4  SmartThingsCommunity/SmartThingsPublic   Groovy   \n",
       "\n",
       "                                     readme_contents  \n",
       "0  How to share data with a statistician\\n=======...  \n",
       "1  ### Introduction\\n\\nThis second programming as...  \n",
       "2  ### Well hello there!\\n\\nThis repository is me...  \n",
       "3  <div align=\"center\">\\n  <img src=\"https://www....  \n",
       "4  # SmartThings Public GitHub Repo\\n\\nAn officia...  "
      ]
     },
     "execution_count": 5,
     "metadata": {},
     "output_type": "execute_result"
    }
   ],
   "source": [
    "# quick look at df\n",
    "df.head()"
   ]
  },
  {
   "cell_type": "code",
   "execution_count": 6,
   "metadata": {},
   "outputs": [
    {
     "name": "stdout",
     "output_type": "stream",
     "text": [
      "<class 'pandas.core.frame.DataFrame'>\n",
      "Int64Index: 400 entries, 0 to 399\n",
      "Data columns (total 3 columns):\n",
      " #   Column           Non-Null Count  Dtype \n",
      "---  ------           --------------  ----- \n",
      " 0   repo             400 non-null    object\n",
      " 1   language         344 non-null    object\n",
      " 2   readme_contents  400 non-null    object\n",
      "dtypes: object(3)\n",
      "memory usage: 12.5+ KB\n"
     ]
    }
   ],
   "source": [
    "# check for missing values\n",
    "df.info()"
   ]
  },
  {
   "cell_type": "markdown",
   "metadata": {},
   "source": [
    "## Takeaways\n",
    "\n",
    "- The dataset has 400 scraped repositories \n",
    "- Some Repositories are missing the language\n",
    "    - This could be because no primary programming language was obvious\n",
    "    - We will drop these rows during data preparation\n",
    "- All variables are object dtypes\n",
    "- language is our target variable"
   ]
  },
  {
   "cell_type": "markdown",
   "metadata": {},
   "source": [
    "# Prepare Data\n",
    "\n",
    "During this stage of the pipeline, we will work on cleaning and preparing the data for exploration and modeling. The prepration functions are part of the prepare script which will be imported. \n",
    "\n",
    "The following steps will be performed to create the best performing model:\n",
    "- cleaning content to remove any special characters and certain words\n",
    "- removing stop words\n",
    "- lemmatizing content\n",
    "- stemming content\n",
    "- removing repos that have non English content\n",
    "- dropping rows with missing values\n",
    "- creating new columns\n",
    "    - cleaned\n",
    "    - stemmed\n",
    "    - lemmatized "
   ]
  },
  {
   "cell_type": "code",
   "execution_count": 8,
   "metadata": {},
   "outputs": [],
   "source": [
    "# call the prepare function from the script\n",
    "#df = pr.prepare_mf(df)"
   ]
  },
  {
   "cell_type": "code",
   "execution_count": 13,
   "metadata": {},
   "outputs": [
    {
     "data": {
      "text/html": [
       "<div>\n",
       "<style scoped>\n",
       "    .dataframe tbody tr th:only-of-type {\n",
       "        vertical-align: middle;\n",
       "    }\n",
       "\n",
       "    .dataframe tbody tr th {\n",
       "        vertical-align: top;\n",
       "    }\n",
       "\n",
       "    .dataframe thead th {\n",
       "        text-align: right;\n",
       "    }\n",
       "</style>\n",
       "<table border=\"1\" class=\"dataframe\">\n",
       "  <thead>\n",
       "    <tr style=\"text-align: right;\">\n",
       "      <th></th>\n",
       "      <th>repo</th>\n",
       "      <th>language</th>\n",
       "      <th>readme_contents</th>\n",
       "    </tr>\n",
       "  </thead>\n",
       "  <tbody>\n",
       "    <tr>\n",
       "      <th>220</th>\n",
       "      <td>PHPMailer/PHPMailer</td>\n",
       "      <td>PHP</td>\n",
       "      <td>![PHPMailer](https://raw.github.com/PHPMailer/...</td>\n",
       "    </tr>\n",
       "    <tr>\n",
       "      <th>253</th>\n",
       "      <td>education/GitHubGraduation-2021</td>\n",
       "      <td>JavaScript</td>\n",
       "      <td>## Updates\\n\\n### May 27, 2021\\nAnd that’s a w...</td>\n",
       "    </tr>\n",
       "    <tr>\n",
       "      <th>106</th>\n",
       "      <td>MarlinFirmware/Marlin</td>\n",
       "      <td>C++</td>\n",
       "      <td># Marlin 3D Printer Firmware\\n\\n![GitHub](http...</td>\n",
       "    </tr>\n",
       "    <tr>\n",
       "      <th>39</th>\n",
       "      <td>PanJiaChen/vue-element-admin</td>\n",
       "      <td>Vue</td>\n",
       "      <td>&lt;p align=\"center\"&gt;\\n  &lt;img width=\"320\" src=\"ht...</td>\n",
       "    </tr>\n",
       "    <tr>\n",
       "      <th>196</th>\n",
       "      <td>Homebrew/homebrew-core</td>\n",
       "      <td>Ruby</td>\n",
       "      <td># Homebrew Core\\n\\nCore formulae for the Homeb...</td>\n",
       "    </tr>\n",
       "    <tr>\n",
       "      <th>...</th>\n",
       "      <td>...</td>\n",
       "      <td>...</td>\n",
       "      <td>...</td>\n",
       "    </tr>\n",
       "    <tr>\n",
       "      <th>287</th>\n",
       "      <td>pytorch/examples</td>\n",
       "      <td>Python</td>\n",
       "      <td># PyTorch Examples\\n![Run Examples](https://gi...</td>\n",
       "    </tr>\n",
       "    <tr>\n",
       "      <th>101</th>\n",
       "      <td>doocs/advanced-java</td>\n",
       "      <td>Java</td>\n",
       "      <td># 互联网 Java 工程师进阶知识完全扫盲\\n\\n[![stars](https://im...</td>\n",
       "    </tr>\n",
       "    <tr>\n",
       "      <th>390</th>\n",
       "      <td>vnpy/vnpy</td>\n",
       "      <td>C++</td>\n",
       "      <td># By Traders, For Traders.\\n\\n&lt;p align=\"center...</td>\n",
       "    </tr>\n",
       "    <tr>\n",
       "      <th>192</th>\n",
       "      <td>springframeworkguru/spring5webapp</td>\n",
       "      <td>Java</td>\n",
       "      <td># Spring Framework 5: Beginner to Guru\\n\\nThis...</td>\n",
       "    </tr>\n",
       "    <tr>\n",
       "      <th>140</th>\n",
       "      <td>ArduPilot/ardupilot</td>\n",
       "      <td>C++</td>\n",
       "      <td># ArduPilot Project\\n\\n&lt;a href=\"https://ardupi...</td>\n",
       "    </tr>\n",
       "  </tbody>\n",
       "</table>\n",
       "<p>100 rows × 3 columns</p>\n",
       "</div>"
      ],
      "text/plain": [
       "                                  repo    language  \\\n",
       "220                PHPMailer/PHPMailer         PHP   \n",
       "253    education/GitHubGraduation-2021  JavaScript   \n",
       "106              MarlinFirmware/Marlin         C++   \n",
       "39        PanJiaChen/vue-element-admin         Vue   \n",
       "196             Homebrew/homebrew-core        Ruby   \n",
       "..                                 ...         ...   \n",
       "287                   pytorch/examples      Python   \n",
       "101                doocs/advanced-java        Java   \n",
       "390                          vnpy/vnpy         C++   \n",
       "192  springframeworkguru/spring5webapp        Java   \n",
       "140                ArduPilot/ardupilot         C++   \n",
       "\n",
       "                                       readme_contents  \n",
       "220  ![PHPMailer](https://raw.github.com/PHPMailer/...  \n",
       "253  ## Updates\\n\\n### May 27, 2021\\nAnd that’s a w...  \n",
       "106  # Marlin 3D Printer Firmware\\n\\n![GitHub](http...  \n",
       "39   <p align=\"center\">\\n  <img width=\"320\" src=\"ht...  \n",
       "196  # Homebrew Core\\n\\nCore formulae for the Homeb...  \n",
       "..                                                 ...  \n",
       "287  # PyTorch Examples\\n![Run Examples](https://gi...  \n",
       "101  # 互联网 Java 工程师进阶知识完全扫盲\\n\\n[![stars](https://im...  \n",
       "390  # By Traders, For Traders.\\n\\n<p align=\"center...  \n",
       "192  # Spring Framework 5: Beginner to Guru\\n\\nThis...  \n",
       "140  # ArduPilot Project\\n\\n<a href=\"https://ardupi...  \n",
       "\n",
       "[100 rows x 3 columns]"
      ]
     },
     "execution_count": 13,
     "metadata": {},
     "output_type": "execute_result"
    }
   ],
   "source": [
    "text = df.readme_contents[n]\n",
    "lang = TextBlob(text)\n",
    "if lang.detect_language() != 'en':\n",
    "    194             df =df.drop([n])\n",
    "    195     return df.reset_index(drop=True)"
   ]
  },
  {
   "cell_type": "markdown",
   "metadata": {},
   "source": [
    "# Explore Data\n",
    "\n",
    "We used our train split to explore the data. During exploration, we analyzed the data to answer the following questions:\n",
    "\n",
    "- What are the most common words in READMEs?\n",
    "- What does the distribution of IDFs look like for the most common words?\n",
    "- Does the length of the README vary by programming language?\n",
    "- Do different programming languages use a different number of unique words?"
   ]
  },
  {
   "cell_type": "markdown",
   "metadata": {},
   "source": [
    "### What are the most common words in READMEs?\n"
   ]
  },
  {
   "cell_type": "code",
   "execution_count": null,
   "metadata": {},
   "outputs": [],
   "source": [
    "# find the different langauges in the train split\n",
    "# train.language.value_counts()\n"
   ]
  },
  {
   "cell_type": "code",
   "execution_count": null,
   "metadata": {},
   "outputs": [],
   "source": []
  }
 ],
 "metadata": {
  "kernelspec": {
   "display_name": "Python 3",
   "language": "python",
   "name": "python3"
  },
  "language_info": {
   "codemirror_mode": {
    "name": "ipython",
    "version": 3
   },
   "file_extension": ".py",
   "mimetype": "text/x-python",
   "name": "python",
   "nbconvert_exporter": "python",
   "pygments_lexer": "ipython3",
   "version": "3.8.5"
  }
 },
 "nbformat": 4,
 "nbformat_minor": 4
}
