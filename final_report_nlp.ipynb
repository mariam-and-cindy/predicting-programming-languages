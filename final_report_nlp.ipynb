{
 "cells": [
  {
   "cell_type": "markdown",
   "metadata": {},
   "source": [
    "# Predicting Programming Languages using NLP"
   ]
  },
  {
   "cell_type": "markdown",
   "metadata": {},
   "source": [
    "### Executive Summary\n",
    "\n",
    "- Our goal is to create a classification model to predict programming languages using Readme content from GitHub repositories.\n",
    "    - This can assist users in finding relevant content based on their programming language critera.\n",
    "    \n",
    "\n",
    "### Key Takeaways\n",
    "\n",
    "- Most common programming language found in our dataset is Javascript followed by Python\n",
    "- Some of the most common words in Readmes were found to be: 'file', 'end', 'class','use' and 'object'.\n",
    "- The length of the readme's varies by programming languages.\n",
    "- \n",
    "- Our best model used  to predict programming languages with % accuracy. This model outperformed my baseline score of % accuracy, so it has value.\n",
    "\n",
    "### Project Overview\n",
    "\n",
    "- Trello board used to identify the different tasks for this project. You can find the board <a href=\"https://trello.com/b/PddXdOTJ/nlp-project\">here</a>\n",
    "- Python scripts were used to acquire, prepare and explore the data\n",
    "- \n",
    "- Statistical analyses tested the following hypotheses:\n",
    "    1. \n",
    " \n",
    "### Data Dictionary\n",
    "\n",
    "The data dictionary detailing all variables utilized in this analyses can be found <a href=\"https://github.com/mariam-and-cindy/predicting-programming-languages/blob/main/README.md\">here</a>."
   ]
  },
  {
   "cell_type": "code",
   "execution_count": 4,
   "metadata": {},
   "outputs": [],
   "source": [
    "# required imports\n",
    "\n",
    "from requests import get\n",
    "from bs4 import BeautifulSoup\n",
    "import pandas as pd\n",
    "import seaborn as sns\n",
    "import matplotlib as mpl\n",
    "import matplotlib.pyplot as plt\n",
    "from wordcloud import WordCloud\n",
    "\n",
    "\n",
    "# import prepare as pr"
   ]
  },
  {
   "cell_type": "markdown",
   "metadata": {},
   "source": [
    "# Acquire Data\n",
    "\n",
    "Our data was scraped from 400 GitHub repositories. We decided to use the list of most forked repos on GitHub <a href=\"https://github.com/search?o=desc&p={i}&q=stars%3A%3E1&s=forks&type=Repositories\">here</a> for our dataset. \n",
    "\n",
    "This list of repositories was cached as a csv after acquisition and using our acquire script we pulled the username and title, language and readme contents of every repository into a json file. We will read in the json file as a pandas dataframe.\n"
   ]
  },
  {
   "cell_type": "code",
   "execution_count": 5,
   "metadata": {},
   "outputs": [],
   "source": [
    "# read in the json file as df\n",
    "repo_json_file = 'data2.json'\n",
    "df = pd.read_json(repo_json_file)"
   ]
  },
  {
   "cell_type": "code",
   "execution_count": 6,
   "metadata": {},
   "outputs": [
    {
     "data": {
      "text/html": [
       "<div>\n",
       "<style scoped>\n",
       "    .dataframe tbody tr th:only-of-type {\n",
       "        vertical-align: middle;\n",
       "    }\n",
       "\n",
       "    .dataframe tbody tr th {\n",
       "        vertical-align: top;\n",
       "    }\n",
       "\n",
       "    .dataframe thead th {\n",
       "        text-align: right;\n",
       "    }\n",
       "</style>\n",
       "<table border=\"1\" class=\"dataframe\">\n",
       "  <thead>\n",
       "    <tr style=\"text-align: right;\">\n",
       "      <th></th>\n",
       "      <th>repo</th>\n",
       "      <th>language</th>\n",
       "      <th>readme_contents</th>\n",
       "    </tr>\n",
       "  </thead>\n",
       "  <tbody>\n",
       "    <tr>\n",
       "      <th>0</th>\n",
       "      <td>jtleek/datasharing</td>\n",
       "      <td>None</td>\n",
       "      <td>How to share data with a statistician\\n=======...</td>\n",
       "    </tr>\n",
       "    <tr>\n",
       "      <th>1</th>\n",
       "      <td>rdpeng/ProgrammingAssignment2</td>\n",
       "      <td>R</td>\n",
       "      <td>### Introduction\\n\\nThis second programming as...</td>\n",
       "    </tr>\n",
       "    <tr>\n",
       "      <th>2</th>\n",
       "      <td>octocat/Spoon-Knife</td>\n",
       "      <td>HTML</td>\n",
       "      <td>### Well hello there!\\n\\nThis repository is me...</td>\n",
       "    </tr>\n",
       "    <tr>\n",
       "      <th>3</th>\n",
       "      <td>tensorflow/tensorflow</td>\n",
       "      <td>C++</td>\n",
       "      <td>&lt;div align=\"center\"&gt;\\n  &lt;img src=\"https://www....</td>\n",
       "    </tr>\n",
       "    <tr>\n",
       "      <th>4</th>\n",
       "      <td>SmartThingsCommunity/SmartThingsPublic</td>\n",
       "      <td>Groovy</td>\n",
       "      <td># SmartThings Public GitHub Repo\\n\\nAn officia...</td>\n",
       "    </tr>\n",
       "  </tbody>\n",
       "</table>\n",
       "</div>"
      ],
      "text/plain": [
       "                                     repo language  \\\n",
       "0                      jtleek/datasharing     None   \n",
       "1           rdpeng/ProgrammingAssignment2        R   \n",
       "2                     octocat/Spoon-Knife     HTML   \n",
       "3                   tensorflow/tensorflow      C++   \n",
       "4  SmartThingsCommunity/SmartThingsPublic   Groovy   \n",
       "\n",
       "                                     readme_contents  \n",
       "0  How to share data with a statistician\\n=======...  \n",
       "1  ### Introduction\\n\\nThis second programming as...  \n",
       "2  ### Well hello there!\\n\\nThis repository is me...  \n",
       "3  <div align=\"center\">\\n  <img src=\"https://www....  \n",
       "4  # SmartThings Public GitHub Repo\\n\\nAn officia...  "
      ]
     },
     "execution_count": 6,
     "metadata": {},
     "output_type": "execute_result"
    }
   ],
   "source": [
    "# quick look at df\n",
    "df.head()"
   ]
  },
  {
   "cell_type": "code",
   "execution_count": 7,
   "metadata": {},
   "outputs": [
    {
     "name": "stdout",
     "output_type": "stream",
     "text": [
      "<class 'pandas.core.frame.DataFrame'>\n",
      "RangeIndex: 400 entries, 0 to 399\n",
      "Data columns (total 3 columns):\n",
      " #   Column           Non-Null Count  Dtype \n",
      "---  ------           --------------  ----- \n",
      " 0   repo             400 non-null    object\n",
      " 1   language         344 non-null    object\n",
      " 2   readme_contents  400 non-null    object\n",
      "dtypes: object(3)\n",
      "memory usage: 9.5+ KB\n"
     ]
    }
   ],
   "source": [
    "# check for missing values\n",
    "df.info()"
   ]
  },
  {
   "cell_type": "markdown",
   "metadata": {},
   "source": [
    "## Takeaways\n",
    "\n",
    "- The dataset has 400 scraped repositories \n",
    "- Some Repositories are missing the language\n",
    "    - This could be because no primary programming language was obvious\n",
    "    - We will drop these rows during data preparation\n",
    "- All variables are object dtypes"
   ]
  },
  {
   "cell_type": "markdown",
   "metadata": {},
   "source": [
    "# Prepare Data\n",
    "\n",
    "During this stage of the pipeline, we will work on cleaning and preparing the data for exploration and modeling. \n",
    "\n",
    "The following steps will be performed to create the best performing model:\n",
    "- cleaning content to remove any special characters\n",
    "- removing stop words\n",
    "- lemmatizing content\n",
    "- stemming content\n",
    "- removing repos that have non English content\n",
    "- dropping rows with missing values\n",
    "- creating new columns\n",
    "    - cleaned\n",
    "    - stemmed\n",
    "    - lemmatized\n",
    "- "
   ]
  },
  {
   "cell_type": "code",
   "execution_count": null,
   "metadata": {},
   "outputs": [],
   "source": []
  }
 ],
 "metadata": {
  "kernelspec": {
   "display_name": "Python 3",
   "language": "python",
   "name": "python3"
  },
  "language_info": {
   "codemirror_mode": {
    "name": "ipython",
    "version": 3
   },
   "file_extension": ".py",
   "mimetype": "text/x-python",
   "name": "python",
   "nbconvert_exporter": "python",
   "pygments_lexer": "ipython3",
   "version": "3.8.5"
  }
 },
 "nbformat": 4,
 "nbformat_minor": 4
}
