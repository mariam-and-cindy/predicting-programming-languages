{
 "cells": [
  {
   "cell_type": "code",
   "execution_count": 1,
   "metadata": {},
   "outputs": [],
   "source": [
    "from requests import get\n",
    "from bs4 import BeautifulSoup\n",
    "import pandas as pd\n",
    "import acquire_cindy as a\n",
    "import acquire as acq\n",
    "import prepare_cindy as prep"
   ]
  },
  {
   "cell_type": "markdown",
   "metadata": {},
   "source": [
    "# Acquire"
   ]
  },
  {
   "cell_type": "markdown",
   "metadata": {},
   "source": [
    "we are using the function in acquire.py to get a repo.\n",
    "\n",
    "**Note : the repo name should not contain spaces**"
   ]
  },
  {
   "cell_type": "code",
   "execution_count": 2,
   "metadata": {},
   "outputs": [],
   "source": [
    "# repo_json_file = 'data2.json'\n",
    "# df_github = pd.read_json(repo_json_file)"
   ]
  },
  {
   "cell_type": "code",
   "execution_count": 3,
   "metadata": {},
   "outputs": [],
   "source": [
    "# df_github"
   ]
  },
  {
   "cell_type": "code",
   "execution_count": 4,
   "metadata": {},
   "outputs": [],
   "source": [
    "#  df_github.to_csv('df.csv')"
   ]
  },
  {
   "cell_type": "code",
   "execution_count": 5,
   "metadata": {},
   "outputs": [],
   "source": [
    "df = pd.read_csv('df.csv', index_col=0)"
   ]
  },
  {
   "cell_type": "code",
   "execution_count": 6,
   "metadata": {},
   "outputs": [
    {
     "data": {
      "text/html": [
       "<div>\n",
       "<style scoped>\n",
       "    .dataframe tbody tr th:only-of-type {\n",
       "        vertical-align: middle;\n",
       "    }\n",
       "\n",
       "    .dataframe tbody tr th {\n",
       "        vertical-align: top;\n",
       "    }\n",
       "\n",
       "    .dataframe thead th {\n",
       "        text-align: right;\n",
       "    }\n",
       "</style>\n",
       "<table border=\"1\" class=\"dataframe\">\n",
       "  <thead>\n",
       "    <tr style=\"text-align: right;\">\n",
       "      <th></th>\n",
       "      <th>repo</th>\n",
       "      <th>language</th>\n",
       "      <th>readme_contents</th>\n",
       "    </tr>\n",
       "  </thead>\n",
       "  <tbody>\n",
       "    <tr>\n",
       "      <th>0</th>\n",
       "      <td>SJang1/korea-covid-19-remaining-vaccine-macro</td>\n",
       "      <td>Python</td>\n",
       "      <td># korea-covid-19-remaining-vaccine-macro\\n잔여백신...</td>\n",
       "    </tr>\n",
       "    <tr>\n",
       "      <th>1</th>\n",
       "      <td>jtleek/datasharing</td>\n",
       "      <td>NaN</td>\n",
       "      <td>How to share data with a statistician\\n=======...</td>\n",
       "    </tr>\n",
       "    <tr>\n",
       "      <th>2</th>\n",
       "      <td>rdpeng/ProgrammingAssignment2</td>\n",
       "      <td>R</td>\n",
       "      <td>### Introduction\\n\\nThis second programming as...</td>\n",
       "    </tr>\n",
       "    <tr>\n",
       "      <th>3</th>\n",
       "      <td>octocat/Spoon-Knife</td>\n",
       "      <td>HTML</td>\n",
       "      <td>### Well hello there!\\n\\nThis repository is me...</td>\n",
       "    </tr>\n",
       "    <tr>\n",
       "      <th>4</th>\n",
       "      <td>tensorflow/tensorflow</td>\n",
       "      <td>C++</td>\n",
       "      <td>&lt;div align=\"center\"&gt;\\n  &lt;img src=\"https://www....</td>\n",
       "    </tr>\n",
       "    <tr>\n",
       "      <th>5</th>\n",
       "      <td>SmartThingsCommunity/SmartThingsPublic</td>\n",
       "      <td>Groovy</td>\n",
       "      <td># SmartThings Public GitHub Repo\\n\\nAn officia...</td>\n",
       "    </tr>\n",
       "    <tr>\n",
       "      <th>6</th>\n",
       "      <td>twbs/bootstrap</td>\n",
       "      <td>JavaScript</td>\n",
       "      <td>&lt;p align=\"center\"&gt;\\n  &lt;a href=\"https://getboot...</td>\n",
       "    </tr>\n",
       "  </tbody>\n",
       "</table>\n",
       "</div>"
      ],
      "text/plain": [
       "                                            repo    language  \\\n",
       "0  SJang1/korea-covid-19-remaining-vaccine-macro      Python   \n",
       "1                             jtleek/datasharing         NaN   \n",
       "2                  rdpeng/ProgrammingAssignment2           R   \n",
       "3                            octocat/Spoon-Knife        HTML   \n",
       "4                          tensorflow/tensorflow         C++   \n",
       "5         SmartThingsCommunity/SmartThingsPublic      Groovy   \n",
       "6                                 twbs/bootstrap  JavaScript   \n",
       "\n",
       "                                     readme_contents  \n",
       "0  # korea-covid-19-remaining-vaccine-macro\\n잔여백신...  \n",
       "1  How to share data with a statistician\\n=======...  \n",
       "2  ### Introduction\\n\\nThis second programming as...  \n",
       "3  ### Well hello there!\\n\\nThis repository is me...  \n",
       "4  <div align=\"center\">\\n  <img src=\"https://www....  \n",
       "5  # SmartThings Public GitHub Repo\\n\\nAn officia...  \n",
       "6  <p align=\"center\">\\n  <a href=\"https://getboot...  "
      ]
     },
     "execution_count": 6,
     "metadata": {},
     "output_type": "execute_result"
    }
   ],
   "source": [
    "df"
   ]
  },
  {
   "cell_type": "markdown",
   "metadata": {},
   "source": [
    "# Prepare"
   ]
  },
  {
   "cell_type": "markdown",
   "metadata": {},
   "source": [
    "in this section we are going to clean data:\n",
    "- detect english language so we can have only information in english language (remove rows)\n",
    "- check missing values. remove rows\n",
    "- use my function that clean, steem"
   ]
  },
  {
   "cell_type": "markdown",
   "metadata": {},
   "source": [
    "## detect language"
   ]
  },
  {
   "cell_type": "code",
   "execution_count": null,
   "metadata": {
    "scrolled": true
   },
   "outputs": [],
   "source": [
    "df.readme_contents[0]"
   ]
  },
  {
   "cell_type": "markdown",
   "metadata": {},
   "source": [
    "install :\n",
    "```\n",
    "$ pip install -U textblob\n",
    "$ python -m textblob.download_corpora\n",
    "```\n",
    "https://textblob.readthedocs.io/en/dev/install.html"
   ]
  },
  {
   "cell_type": "code",
   "execution_count": null,
   "metadata": {},
   "outputs": [],
   "source": [
    "from textblob import TextBlob\n",
    "text = df.readme_contents[0]\n",
    "lang = TextBlob(text)\n",
    "print(lang.detect_language())\n"
   ]
  },
  {
   "cell_type": "code",
   "execution_count": null,
   "metadata": {},
   "outputs": [],
   "source": [
    "lang.detect_language()"
   ]
  },
  {
   "cell_type": "code",
   "execution_count": null,
   "metadata": {},
   "outputs": [],
   "source": [
    "df"
   ]
  },
  {
   "cell_type": "code",
   "execution_count": null,
   "metadata": {},
   "outputs": [],
   "source": [
    "# for n in range (0, len(df)):\n",
    "#     text = df.readme_contents[n]\n",
    "#     lang = TextBlob(text)\n",
    "#     print(lang.detect_language())\n",
    "#     if lang.detect_language() != 'en':\n",
    "#         df =df.drop([n])\n",
    "    "
   ]
  },
  {
   "cell_type": "code",
   "execution_count": null,
   "metadata": {
    "scrolled": true
   },
   "outputs": [],
   "source": [
    "df"
   ]
  },
  {
   "cell_type": "code",
   "execution_count": null,
   "metadata": {},
   "outputs": [],
   "source": [
    "#create a function\n",
    "def remove_nonenglish (df):\n",
    "    '''\n",
    "    takes in df and 1 column to check if the text is in englis if not that row is going to be remove\n",
    "    '''\n",
    "    for n in range (0, len(df)):\n",
    "        text = df.readme_contents[n]\n",
    "        lang = TextBlob(text)\n",
    "        print(lang.detect_language())\n",
    "        if lang.detect_language() != 'en':\n",
    "            df =df.drop([n])\n",
    "    return df"
   ]
  },
  {
   "cell_type": "code",
   "execution_count": null,
   "metadata": {
    "scrolled": true
   },
   "outputs": [],
   "source": [
    "df = remove_nonenglish(df)"
   ]
  },
  {
   "cell_type": "code",
   "execution_count": null,
   "metadata": {},
   "outputs": [],
   "source": [
    "df"
   ]
  },
  {
   "cell_type": "markdown",
   "metadata": {},
   "source": [
    "### missing values"
   ]
  },
  {
   "cell_type": "code",
   "execution_count": null,
   "metadata": {
    "scrolled": true
   },
   "outputs": [],
   "source": [
    "#check missing values using my function\n",
    "miss_val =prep.miss_dup_values(df)\n",
    "miss_val"
   ]
  },
  {
   "cell_type": "markdown",
   "metadata": {},
   "source": [
    "**Note:  we can see we have missing values in language , so I'm going to remove the rows that have missing values in language**"
   ]
  },
  {
   "cell_type": "code",
   "execution_count": null,
   "metadata": {},
   "outputs": [],
   "source": [
    "#removing missing values\n",
    "df = df.dropna(axis=0).reset_index(drop=True)"
   ]
  },
  {
   "cell_type": "markdown",
   "metadata": {},
   "source": [
    "### clean, tokenized, stemming, lemmatize"
   ]
  },
  {
   "cell_type": "code",
   "execution_count": null,
   "metadata": {},
   "outputs": [],
   "source": [
    "#use my prepare function\n",
    "df =prep.prepare_data(df, 'readme_contents')"
   ]
  },
  {
   "cell_type": "code",
   "execution_count": null,
   "metadata": {},
   "outputs": [],
   "source": [
    "df.head()"
   ]
  },
  {
   "cell_type": "code",
   "execution_count": null,
   "metadata": {},
   "outputs": [],
   "source": [
    "def prepare_mf (df):\n",
    "    '''\n",
    "    takes in a df and all the rows with missing information, non English text,\n",
    "    and then clean, tokenize, stemming, lemmatize\n",
    "    '''\n",
    "    #removing texts that are not English\n",
    "    df = remove_nonenglish(df)\n",
    "    #removing all missing values\n",
    "    #removing missing values\n",
    "    df = df.dropna(axis=0).reset_index(drop=True)\n",
    "    #use my prepare function to  clean, tokenized, stemming, lemmatize\n",
    "    df =prep.prepare_data(df, 'readme_contents')\n",
    "    return df\n",
    "    \n",
    "    \n",
    "    \n",
    "    "
   ]
  },
  {
   "cell_type": "code",
   "execution_count": null,
   "metadata": {},
   "outputs": [],
   "source": [
    "df = pd.read_csv('df.csv', index_col=0)"
   ]
  },
  {
   "cell_type": "code",
   "execution_count": 8,
   "metadata": {},
   "outputs": [],
   "source": [
    "df =prep.prepare_mf(df)"
   ]
  },
  {
   "cell_type": "code",
   "execution_count": 9,
   "metadata": {},
   "outputs": [
    {
     "data": {
      "text/html": [
       "<div>\n",
       "<style scoped>\n",
       "    .dataframe tbody tr th:only-of-type {\n",
       "        vertical-align: middle;\n",
       "    }\n",
       "\n",
       "    .dataframe tbody tr th {\n",
       "        vertical-align: top;\n",
       "    }\n",
       "\n",
       "    .dataframe thead th {\n",
       "        text-align: right;\n",
       "    }\n",
       "</style>\n",
       "<table border=\"1\" class=\"dataframe\">\n",
       "  <thead>\n",
       "    <tr style=\"text-align: right;\">\n",
       "      <th></th>\n",
       "      <th>repo</th>\n",
       "      <th>language</th>\n",
       "      <th>readme_contents</th>\n",
       "      <th>clean</th>\n",
       "      <th>stemmed</th>\n",
       "      <th>lemmatized</th>\n",
       "    </tr>\n",
       "  </thead>\n",
       "  <tbody>\n",
       "    <tr>\n",
       "      <th>0</th>\n",
       "      <td>rdpeng/ProgrammingAssignment2</td>\n",
       "      <td>R</td>\n",
       "      <td>### Introduction\\n\\nThis second programming as...</td>\n",
       "      <td>introduction second programming assignment req...</td>\n",
       "      <td>introduct second program assign requir write r...</td>\n",
       "      <td>introduction second programming assignment req...</td>\n",
       "    </tr>\n",
       "    <tr>\n",
       "      <th>1</th>\n",
       "      <td>octocat/Spoon-Knife</td>\n",
       "      <td>HTML</td>\n",
       "      <td>### Well hello there!\\n\\nThis repository is me...</td>\n",
       "      <td>well hello repository meant provide example fo...</td>\n",
       "      <td>well hello repositori meant provid exampl fork...</td>\n",
       "      <td>well hello repository meant provide example fo...</td>\n",
       "    </tr>\n",
       "    <tr>\n",
       "      <th>2</th>\n",
       "      <td>tensorflow/tensorflow</td>\n",
       "      <td>C++</td>\n",
       "      <td>&lt;div align=\"center\"&gt;\\n  &lt;img src=\"https://www....</td>\n",
       "      <td>div aligncenter img srchttpswwwtensorfloworgim...</td>\n",
       "      <td>div aligncent img srchttpswwwtensorfloworgimag...</td>\n",
       "      <td>div aligncenter img srchttpswwwtensorfloworgim...</td>\n",
       "    </tr>\n",
       "    <tr>\n",
       "      <th>3</th>\n",
       "      <td>SmartThingsCommunity/SmartThingsPublic</td>\n",
       "      <td>Groovy</td>\n",
       "      <td># SmartThings Public GitHub Repo\\n\\nAn officia...</td>\n",
       "      <td>smartthings public github repo official list s...</td>\n",
       "      <td>smartth public github repo offici list smartap...</td>\n",
       "      <td>smartthings public github repo official list s...</td>\n",
       "    </tr>\n",
       "    <tr>\n",
       "      <th>4</th>\n",
       "      <td>twbs/bootstrap</td>\n",
       "      <td>JavaScript</td>\n",
       "      <td>&lt;p align=\"center\"&gt;\\n  &lt;a href=\"https://getboot...</td>\n",
       "      <td>p aligncenter hrefhttpsgetbootstrapcom img src...</td>\n",
       "      <td>p aligncent hrefhttpsgetbootstrapcom img srcht...</td>\n",
       "      <td>p aligncenter hrefhttpsgetbootstrapcom img src...</td>\n",
       "    </tr>\n",
       "  </tbody>\n",
       "</table>\n",
       "</div>"
      ],
      "text/plain": [
       "                                     repo    language  \\\n",
       "0           rdpeng/ProgrammingAssignment2           R   \n",
       "1                     octocat/Spoon-Knife        HTML   \n",
       "2                   tensorflow/tensorflow         C++   \n",
       "3  SmartThingsCommunity/SmartThingsPublic      Groovy   \n",
       "4                          twbs/bootstrap  JavaScript   \n",
       "\n",
       "                                     readme_contents  \\\n",
       "0  ### Introduction\\n\\nThis second programming as...   \n",
       "1  ### Well hello there!\\n\\nThis repository is me...   \n",
       "2  <div align=\"center\">\\n  <img src=\"https://www....   \n",
       "3  # SmartThings Public GitHub Repo\\n\\nAn officia...   \n",
       "4  <p align=\"center\">\\n  <a href=\"https://getboot...   \n",
       "\n",
       "                                               clean  \\\n",
       "0  introduction second programming assignment req...   \n",
       "1  well hello repository meant provide example fo...   \n",
       "2  div aligncenter img srchttpswwwtensorfloworgim...   \n",
       "3  smartthings public github repo official list s...   \n",
       "4  p aligncenter hrefhttpsgetbootstrapcom img src...   \n",
       "\n",
       "                                             stemmed  \\\n",
       "0  introduct second program assign requir write r...   \n",
       "1  well hello repositori meant provid exampl fork...   \n",
       "2  div aligncent img srchttpswwwtensorfloworgimag...   \n",
       "3  smartth public github repo offici list smartap...   \n",
       "4  p aligncent hrefhttpsgetbootstrapcom img srcht...   \n",
       "\n",
       "                                          lemmatized  \n",
       "0  introduction second programming assignment req...  \n",
       "1  well hello repository meant provide example fo...  \n",
       "2  div aligncenter img srchttpswwwtensorfloworgim...  \n",
       "3  smartthings public github repo official list s...  \n",
       "4  p aligncenter hrefhttpsgetbootstrapcom img src...  "
      ]
     },
     "execution_count": 9,
     "metadata": {},
     "output_type": "execute_result"
    }
   ],
   "source": [
    "df"
   ]
  },
  {
   "cell_type": "code",
   "execution_count": null,
   "metadata": {},
   "outputs": [],
   "source": []
  }
 ],
 "metadata": {
  "kernelspec": {
   "display_name": "Python 3",
   "language": "python",
   "name": "python3"
  },
  "language_info": {
   "codemirror_mode": {
    "name": "ipython",
    "version": 3
   },
   "file_extension": ".py",
   "mimetype": "text/x-python",
   "name": "python",
   "nbconvert_exporter": "python",
   "pygments_lexer": "ipython3",
   "version": "3.8.5"
  }
 },
 "nbformat": 4,
 "nbformat_minor": 4
}
